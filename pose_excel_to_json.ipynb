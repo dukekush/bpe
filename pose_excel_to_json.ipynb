{
 "cells": [
  {
   "cell_type": "code",
   "execution_count": 90,
   "metadata": {},
   "outputs": [],
   "source": [
    "import pandas as pd\n",
    "import json\n",
    "import os"
   ]
  },
  {
   "cell_type": "code",
   "execution_count": 49,
   "metadata": {},
   "outputs": [],
   "source": [
    "with open('attack_pose/translation_mappings.json') as f:\n",
    "    mappings = json.load(f)"
   ]
  },
  {
   "cell_type": "markdown",
   "metadata": {},
   "source": [
    "# Convert excel files to json"
   ]
  },
  {
   "cell_type": "code",
   "execution_count": 97,
   "metadata": {},
   "outputs": [],
   "source": [
    "def pose_df_to_dict(pose_df):\n",
    "\n",
    "\tannot = {'annotations': []}\n",
    "\n",
    "\t# Keypoints in json files used by the pose estimation model\n",
    "\t# \"keypoints\": [\n",
    "\t# \t\t\t\t\"nose\",\n",
    "\t# \t\t\t\t\"left_eye\",\n",
    "\t# \t\t\t\t\"right_eye\",\n",
    "\t# \t\t\t\t\"left_ear\",\n",
    "\t# \t\t\t\t\"right_ear\",\n",
    "\t# \t\t\t\t\"left_shoulder\",\n",
    "\t# \t\t\t\t\"right_shoulder\",\n",
    "\t# \t\t\t\t\"left_elbow\",\n",
    "\t# \t\t\t\t\"right_elbow\",\n",
    "\t# \t\t\t\t\"left_wrist\",\n",
    "\t# \t\t\t\t\"right_wrist\",\n",
    "\t# \t\t\t\t\"left_hip\",\n",
    "\t# \t\t\t\t\"right_hip\",\n",
    "\t# \t\t\t\t\"left_knee\",\n",
    "\t# \t\t\t\t\"right_knee\",\n",
    "\t# \t\t\t\t\"left_ankle\",\n",
    "\t# \t\t\t\t\"right_ankle\"\n",
    "\t#                 ]\n",
    "\t\n",
    "\tfor i, row in pose_df.iterrows():\n",
    "\t\tkeypoints = [\n",
    "\t\trow['nose_y'],\n",
    "\t\trow['nose_x'],\n",
    "\t\trow['nose_p'],\n",
    "\t\t\n",
    "\t\trow['left_eye_y'],\n",
    "\t\trow['left_eye_x'],\n",
    "\t\trow['left_eye_p'],\n",
    "\t\t\n",
    "\t\trow['right_eye_y'],\n",
    "\t\trow['right_eye_x'],\n",
    "\t\trow['right_eye_p'],\n",
    "\t\t\n",
    "\t\trow['left_ear_y'],\n",
    "\t\trow['left_ear_x'],\n",
    "\t\trow['left_ear_p'],\n",
    "\t\t\n",
    "\t\trow['right_ear_y'],\n",
    "\t\trow['right_ear_x'],\n",
    "\t\trow['right_ear_p'],\n",
    "\t\t\n",
    "\t\trow['left_shoulder_y'],\n",
    "\t\trow['left_shoulder_x'],\n",
    "\t\trow['left_shoulder_p'],\n",
    "\t\t\n",
    "\t\trow['right_shoulder_y'],\n",
    "\t\trow['right_shoulder_x'],\n",
    "\t\trow['right_shoulder_p'],\n",
    "\t\t\n",
    "\t\trow['left_elbow_y'],\n",
    "\t\trow['left_elbow_x'],\n",
    "\t\trow['left_elbow_p'],\n",
    "\t\t\n",
    "\t\trow['right_elbow_y'],\n",
    "\t\trow['right_elbow_x'],\n",
    "\t\trow['right_elbow_p'],\n",
    "\t\t\n",
    "\t\trow['left_wrist_y'],\n",
    "\t\trow['left_wrist_x'],\n",
    "\t\trow['left_wrist_p'],\n",
    "\t\t\n",
    "\t\trow['right_wrist_y'],\n",
    "\t\trow['right_wrist_x'],\n",
    "\t\trow['right_wrist_p'],\n",
    "\t\t\n",
    "\t\trow['left_hip_y'],\n",
    "\t\trow['left_hip_x'],\n",
    "\t\trow['left_hip_p'],\n",
    "\t\t\n",
    "\t\trow['right_hip_y'],\n",
    "\t\trow['right_hip_x'],\n",
    "\t\trow['right_hip_p'],\n",
    "\t\t\n",
    "\t\trow['left_knee_y'],\n",
    "\t\trow['left_knee_x'],\n",
    "\t\trow['left_knee_p'],\n",
    "\t\t\n",
    "\t\trow['right_knee_y'],\n",
    "\t\trow['right_knee_x'],\n",
    "\t\trow['right_knee_p'],\n",
    "\t\t\n",
    "\t\trow['left_ankle_y'],\n",
    "\t\trow['left_ankle_x'],\n",
    "\t\trow['left_ankle_p'],\n",
    "\t\t\n",
    "\t\trow['right_ankle_y'],\n",
    "\t\trow['right_ankle_x'],\n",
    "\t\trow['right_ankle_p'],\n",
    "\t]\n",
    "\t\tframe_num = row['frame_number']\n",
    "\n",
    "\t\tcategory_id = 1\n",
    "\t\tbbox = [0 for _ in range(4)]\n",
    "\t\tscore = 1\n",
    "\t\tarea = 0\n",
    "\t\tb_score = 1\n",
    "\t\tobject_id = 0\n",
    "\t\tobjects = [\n",
    "\t\t\t{\n",
    "\t\t\t\t'category_id': category_id,\n",
    "\t\t\t\t'bbox': bbox,\n",
    "\t\t\t\t'score': score,\n",
    "\t\t\t\t'keypoints': keypoints,\n",
    "\t\t\t\t'area': area,\n",
    "\t\t\t\t'b_score': b_score,\n",
    "\t\t\t\t'object_id': object_id,\n",
    "\t\t\t}\n",
    "\t\t]\n",
    "\t\tannot['annotations'].append(\n",
    "\t\t\t{\n",
    "\t\t\t\t'frame_num': frame_num,\n",
    "\t\t\t\t'objects': objects,\n",
    "\t\t\t}\n",
    "\t\t) \n",
    "\treturn annot\n",
    "\n",
    "\n",
    "def pose_excel_to_json(excel_file_name, json_file_name, translation_mappings):\n",
    "\tdf = pd.read_excel(excel_file_name)\n",
    "\tdf.columns = [translation_mappings[col] for col in df.columns.values]\n",
    "\tannot = pose_df_to_dict(df)\n",
    "\twith open(json_file_name, 'w') as f:\n",
    "\t\tjson.dump(annot, f, indent=4)"
   ]
  },
  {
   "cell_type": "code",
   "execution_count": 98,
   "metadata": {},
   "outputs": [],
   "source": [
    "# get all excel files from directory\n",
    "excel_files = [f for f in os.listdir('attack_pose/excel_files/') if f.endswith('.xlsx')]\n",
    "for excel_file in excel_files:\n",
    "    pose_excel_to_json(\n",
    "        excel_file_name=os.path.join('attack_pose/excel_files/', excel_file),\n",
    "        json_file_name=os.path.join('attack_pose/json_files/', excel_file.replace('.xlsx', '.json')),\n",
    "        translation_mappings=mappings,\n",
    "    )\n"
   ]
  },
  {
   "cell_type": "markdown",
   "metadata": {},
   "source": [
    "# Check if all correct"
   ]
  },
  {
   "cell_type": "code",
   "execution_count": 85,
   "metadata": {},
   "outputs": [],
   "source": [
    "def json2annotations(json_dir):\n",
    "    with open(json_dir) as f:\n",
    "        jointDict = json.load(f)\n",
    "    # case for cv-api directly using\n",
    "    return jointDict['annotations'] if 'annotations' in jointDict else jointDict['result']['annotations']"
   ]
  },
  {
   "cell_type": "code",
   "execution_count": 111,
   "metadata": {},
   "outputs": [
    {
     "name": "stdout",
     "output_type": "stream",
     "text": [
      "category_id 1\n",
      "bbox [0, 0, 0, 0]\n",
      "score 1\n",
      "keypoints 51\n",
      "area 0\n",
      "b_score 1\n",
      "object_id 0\n"
     ]
    }
   ],
   "source": [
    "annot_new = json2annotations('attack_pose/json_files/GX010032_Clip_10_sec_24_POSE_tabel.json')\n",
    "for key in annot_new[0]['objects'][0].keys():\n",
    "    if key != 'keypoints':\n",
    "        print(key, annot_new[0]['objects'][0][key])\n",
    "    else:\n",
    "        print(key, len(annot_new[0]['objects'][0][key]))"
   ]
  },
  {
   "cell_type": "code",
   "execution_count": 112,
   "metadata": {},
   "outputs": [
    {
     "name": "stdout",
     "output_type": "stream",
     "text": [
      "category_id 1\n",
      "bbox [991.48, 231.33, 162.58, 528.06]\n",
      "score 0.877\n",
      "keypoints 51\n",
      "area 19294.643\n",
      "b_score 0.968\n",
      "object_id 0\n"
     ]
    }
   ],
   "source": [
    "annot = json2annotations('bpe-datasets/refined_skeleton/007/S001C001P004R001A007.json')\n",
    "for key in annot[0]['objects'][0].keys():\n",
    "    if key != 'keypoints':\n",
    "        print(key, annot[0]['objects'][0][key])\n",
    "    else:\n",
    "        print(key, len(annot[0]['objects'][0][key]))"
   ]
  }
 ],
 "metadata": {
  "kernelspec": {
   "display_name": "bpe_2",
   "language": "python",
   "name": "python3"
  },
  "language_info": {
   "codemirror_mode": {
    "name": "ipython",
    "version": 3
   },
   "file_extension": ".py",
   "mimetype": "text/x-python",
   "name": "python",
   "nbconvert_exporter": "python",
   "pygments_lexer": "ipython3",
   "version": "3.10.0"
  }
 },
 "nbformat": 4,
 "nbformat_minor": 2
}
