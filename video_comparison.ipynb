{
 "cells": [
  {
   "cell_type": "code",
   "execution_count": 1,
   "metadata": {},
   "outputs": [],
   "source": [
    "from volleyball_analysers import VolleyballAnalyser, VolleyballAttackAnalyser"
   ]
  },
  {
   "cell_type": "markdown",
   "metadata": {},
   "source": [
    "# Example usage\n",
    "## Full video comparison"
   ]
  },
  {
   "cell_type": "code",
   "execution_count": 2,
   "metadata": {},
   "outputs": [],
   "source": [
    "# Comparison of reference video kypoints (v1) with selected video keypoints (v2)\n",
    "vid1_pose_file = 'attack_pose_data/excel_files/REFERENCE_POSE_table.xlsx'  \n",
    "vid2_pose_file = 'attack_pose_data/excel_files/GX010044_Clip_6_POSE_tabel.xlsx'\n",
    "\n",
    "analyser1 = VolleyballAnalyser(vid1_pose_file, vid2_pose_file)\n",
    "\n",
    "analyser1.create_stick_figure_comparison_video('video_outputs/video_comp.mp4')"
   ]
  },
  {
   "cell_type": "markdown",
   "metadata": {},
   "source": [
    "#### Set custom window and stride"
   ]
  },
  {
   "cell_type": "code",
   "execution_count": 3,
   "metadata": {},
   "outputs": [],
   "source": [
    "analyser2 = VolleyballAnalyser(vid1_pose_file, vid2_pose_file)\n",
    "\n",
    "analyser2.set_window_stride_size(60, 15)\n",
    "# Equivalent to:\n",
    "# analyser2.set_window_size(60)\n",
    "# analyser2.set_stride_size(15)\n",
    "# Also possible to set while creating the object: (this is actually the fastest way)\n",
    "# analyser2 = VolleyballAnalyser(vid1_pose_file, vid2_pose_file, window_size=60, stride_size=15)\n",
    "\n",
    "analyser2.create_stick_figure_comparison_video('video_outputs/video_comp.mp4')"
   ]
  },
  {
   "cell_type": "markdown",
   "metadata": {},
   "source": [
    "#### Set output video parameters"
   ]
  },
  {
   "cell_type": "code",
   "execution_count": 4,
   "metadata": {},
   "outputs": [],
   "source": [
    "analyser2 = VolleyballAnalyser(vid1_pose_file, vid2_pose_file)\n",
    "\n",
    "analyser2.create_stick_figure_comparison_video(\n",
    "    out_path='video_outputs/video_comp.mp4',  # required\n",
    "    fps=30,  # default is 30\n",
    "    out_width=1920,  # default is 1920, width of the output video\n",
    "    out_height=1080,  #  default is 1080, height of the single output video, total height of the output video will be 2*out_height\n",
    "    memory=None  # if set to integet -- every memory-th frame will be saved to image, so output video will have stick figure every memory-th frame\n",
    "    )\n",
    "\n",
    "analyser2.create_stick_figure_comparison_video('video_outputs/video_comp.mp4')"
   ]
  },
  {
   "cell_type": "markdown",
   "metadata": {},
   "source": [
    "## Only selected number of frames around attack\n",
    "\n",
    "Only difference here is that we need to select how many frames around attack frame to get for comparison and video. \n",
    "- If 60: analyse 30 frames before and 30 frames after attack frame\n",
    "- If 30: analyse 30 frames before and 15 frames after attack frame"
   ]
  },
  {
   "cell_type": "code",
   "execution_count": 5,
   "metadata": {},
   "outputs": [
    {
     "name": "stdout",
     "output_type": "stream",
     "text": [
      "Range =  2\n",
      "From: 0  To:  30\n",
      "From: 30  To:  60\n"
     ]
    }
   ],
   "source": [
    "# Comparison of reference video kypoints (v1) with selected video keypoints (v2) for 60 frames around attack\n",
    "vid1_pose_file = 'attack_pose_data/excel_files/REFERENCE_POSE_table.xlsx'  \n",
    "vid2_pose_file = 'attack_pose_data/excel_files/GX010044_Clip_6_POSE_tabel.xlsx'\n",
    "\n",
    "analyser = VolleyballAttackAnalyser(vid1_pose_file, vid2_pose_file, num_attack_frames=60)\n",
    "\n",
    "# Shows which frames are being analysed for current window and stride \n",
    "analyser.show_analysed_frames()\n",
    "\n",
    "# Output the stick figure comparison video\n",
    "analyser.create_stick_figure_comparison_video('video_outputs/video_comp_attack.mp4' , fps=24)"
   ]
  }
 ],
 "metadata": {
  "kernelspec": {
   "display_name": "bpe_2",
   "language": "python",
   "name": "python3"
  },
  "language_info": {
   "codemirror_mode": {
    "name": "ipython",
    "version": 3
   },
   "file_extension": ".py",
   "mimetype": "text/x-python",
   "name": "python",
   "nbconvert_exporter": "python",
   "pygments_lexer": "ipython3",
   "version": "3.10.0"
  }
 },
 "nbformat": 4,
 "nbformat_minor": 2
}
