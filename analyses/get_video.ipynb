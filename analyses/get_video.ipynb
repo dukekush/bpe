{
 "cells": [
  {
   "cell_type": "code",
   "execution_count": 1,
   "metadata": {},
   "outputs": [
    {
     "name": "stderr",
     "output_type": "stream",
     "text": [
      "/Users/jniedziela/.pyenv/versions/3.10.0/envs/bpe_2/lib/python3.10/site-packages/tslearn/bases/bases.py:15: UserWarning: h5py not installed, hdf5 features will not be supported.\n",
      "Install h5py to use hdf5 features: http://docs.h5py.org/\n",
      "  warn(h5py_msg)\n"
     ]
    }
   ],
   "source": [
    "import os\n",
    "import numpy as np\n",
    "from helpers import VolleyWrapper, get_attack_frames_per_video, show_analysed_frames\n",
    "\n",
    "os.chdir('/Users/jniedziela/Developer/master/bpe/')\n",
    "\n",
    "DATA_DIR = 'attack_pose_data/'\n",
    "SCORES_DATA = 'attack_pose_data/pose_scores.xlsx'\n",
    "JSON_DATA_DIR = 'attack_pose_data/json_files/'\n",
    "EXCEL_DATA_DIR = 'attack_pose_data/excel_files/'"
   ]
  },
  {
   "cell_type": "markdown",
   "metadata": {},
   "source": [
    "## Visualise some random attack videos"
   ]
  },
  {
   "cell_type": "code",
   "execution_count": 2,
   "metadata": {},
   "outputs": [],
   "source": [
    "attack_frames = get_attack_frames_per_video(EXCEL_DATA_DIR)"
   ]
  },
  {
   "cell_type": "code",
   "execution_count": 3,
   "metadata": {},
   "outputs": [
    {
     "name": "stdout",
     "output_type": "stream",
     "text": [
      "Range =  3\n",
      "From: 0  To:  30\n",
      "From: 15  To:  45\n",
      "From: 30  To:  60\n"
     ]
    }
   ],
   "source": [
    "show_analysed_frames(60, 30, 15)"
   ]
  },
  {
   "cell_type": "code",
   "execution_count": 24,
   "metadata": {},
   "outputs": [],
   "source": [
    "all_files = os.listdir(JSON_DATA_DIR)\n",
    "\n",
    "for i in range(20):\n",
    "    # visualise attack frames\n",
    "    vid1 = JSON_DATA_DIR + np.random.choice(all_files)\n",
    "    vid2 = JSON_DATA_DIR + np.random.choice(all_files)\n",
    "\n",
    "    analyser = VolleyWrapper(vid1, vid2, 30, 15)\n",
    "\n",
    "    s1_attack = attack_frames[analyser.args.vid1_json_dir.split('/')[-1]]\n",
    "    analyser.seq1 = analyser.seq1[:, :, s1_attack - 30: s1_attack + 30]\n",
    "\n",
    "    s2_attack = attack_frames[analyser.args.vid2_json_dir.split('/')[-1]]\n",
    "    analyser.seq2 = analyser.seq2[:, :, s2_attack - 30: s2_attack + 30]\n",
    "    analyser._update_similarities()\n",
    "\n",
    "    analyser.draw_two_sequences('analyses/visual_results/attack/attack_{}.mp4'.format(i), 15)"
   ]
  },
  {
   "cell_type": "markdown",
   "metadata": {},
   "source": [
    "## Videos with lots of steps "
   ]
  },
  {
   "cell_type": "code",
   "execution_count": 4,
   "metadata": {},
   "outputs": [],
   "source": [
    "v1 = 'attack_pose_data/json_files/GX010034_Clip_5_sec_15_POSE_tabel.json'  # 13 steps\n",
    "v2 = 'attack_pose_data/json_files/GX010045_Clip_0_POSE_tabel.json'  # 11 steps\n",
    "\n",
    "analyser = VolleyWrapper(v1, v2)\n",
    "\n",
    "analyser.set_window_size(30)\n",
    "analyser.set_stride_size(30)\n",
    "\n",
    "analyser.draw_two_sequences('analyses/visual_results/lot_of_steps.mp4')"
   ]
  },
  {
   "cell_type": "markdown",
   "metadata": {},
   "source": [
    "## Get videos with one coordinated shifted "
   ]
  },
  {
   "cell_type": "code",
   "execution_count": 12,
   "metadata": {},
   "outputs": [],
   "source": [
    "v1 = 'attack_pose_data/json_files/GX010037_Clip_7_sec_15_POSE_tabel.json'\n",
    "v2 = 'attack_pose_data/json_files/GX010037_Clip_7_sec_15_POSE_tabel.json'\n",
    "\n",
    "analyser = VolleyWrapper(v1, v2)\n",
    "analyser.seq1[:, 0, :] -= 500\n",
    "analyser.set_window_size(30)\n",
    "analyser.set_stride_size(30)\n",
    "\n",
    "\n",
    "analyser.draw_two_sequences('analyses/visual_results/test_same_moved_500_left.mp4')"
   ]
  },
  {
   "cell_type": "code",
   "execution_count": 13,
   "metadata": {},
   "outputs": [],
   "source": [
    "v1 = 'attack_pose_data/json_files/GX010037_Clip_7_sec_15_POSE_tabel.json'\n",
    "v2 = 'attack_pose_data/json_files/GX010037_Clip_7_sec_15_POSE_tabel.json'\n",
    "\n",
    "analyser = VolleyWrapper(v1, v2)\n",
    "analyser.seq1[:, 0, :] += 500\n",
    "analyser.set_window_size(30)\n",
    "analyser.set_stride_size(30)\n",
    "\n",
    "\n",
    "analyser.draw_two_sequences('analyses/visual_results/test_same_moved_500_right.mp4')"
   ]
  },
  {
   "cell_type": "code",
   "execution_count": 14,
   "metadata": {},
   "outputs": [],
   "source": [
    "v1 = 'attack_pose_data/json_files/GX010037_Clip_7_sec_15_POSE_tabel.json'\n",
    "v2 = 'attack_pose_data/json_files/GX010037_Clip_7_sec_15_POSE_tabel.json'\n",
    "\n",
    "analyser = VolleyWrapper(v1, v2)\n",
    "analyser.seq1[:, 1, :] -= 500\n",
    "analyser.set_window_size(30)\n",
    "analyser.set_stride_size(30)\n",
    "\n",
    "\n",
    "analyser.draw_two_sequences('analyses/visual_results/test_same_moved_500_down.mp4')"
   ]
  },
  {
   "cell_type": "code",
   "execution_count": 15,
   "metadata": {},
   "outputs": [],
   "source": [
    "v1 = 'attack_pose_data/json_files/GX010037_Clip_7_sec_15_POSE_tabel.json'\n",
    "v2 = 'attack_pose_data/json_files/GX010037_Clip_7_sec_15_POSE_tabel.json'\n",
    "\n",
    "analyser = VolleyWrapper(v1, v2)\n",
    "analyser.seq1[:, 1, :] += 500\n",
    "analyser.set_window_size(30)\n",
    "analyser.set_stride_size(30)\n",
    "\n",
    "\n",
    "analyser.draw_two_sequences('analyses/visual_results/test_same_moved_500_up.mp4')"
   ]
  },
  {
   "cell_type": "code",
   "execution_count": null,
   "metadata": {},
   "outputs": [],
   "source": []
  }
 ],
 "metadata": {
  "kernelspec": {
   "display_name": "bpe_2",
   "language": "python",
   "name": "python3"
  },
  "language_info": {
   "codemirror_mode": {
    "name": "ipython",
    "version": 3
   },
   "file_extension": ".py",
   "mimetype": "text/x-python",
   "name": "python",
   "nbconvert_exporter": "python",
   "pygments_lexer": "ipython3",
   "version": "3.10.0"
  }
 },
 "nbformat": 4,
 "nbformat_minor": 2
}
