{
 "cells": [
  {
   "cell_type": "code",
   "execution_count": 1,
   "metadata": {},
   "outputs": [],
   "source": [
    "from phase_comparisons import *"
   ]
  },
  {
   "cell_type": "code",
   "execution_count": 2,
   "metadata": {},
   "outputs": [],
   "source": [
    "comp = PhaseComparison()\n",
    "output_video_path = 'attack_pose_data/test_phase_comparison_class/test_1.mp4'\n",
    "reference_excel_path = 'attack_pose_data/DATASETS/Techniek_aanval_met_sprong_Ref_POSE_tabel.xlsx'\n",
    "comparison_excel_path = 'attack_pose_data/DATASETS/GX010044_Clip_0_POSE_tabel.xlsx'\n",
    "comparison_video_path = 'attack_pose_data/BLURRED_VIDEOS/GX010044_Clip_0.mp4'\n",
    "num_phases=4\n",
    "slow_factor=1\n",
    "\n",
    "comp.generate_video_comparison_output(\n",
    "    output_video_path,\n",
    "    reference_excel_path,\n",
    "    comparison_excel_path,\n",
    "    comparison_video_path,\n",
    "    num_phases=num_phases,\n",
    "    slow_factor=slow_factor\n",
    ")"
   ]
  },
  {
   "cell_type": "code",
   "execution_count": 3,
   "metadata": {},
   "outputs": [],
   "source": [
    "comp = PhaseComparison()\n",
    "output_video_path = 'attack_pose_data/test_phase_comparison_class/test_2.mp4'\n",
    "reference_excel_path = 'attack_pose_data/DATASETS/Techniek_aanval_met_sprong_Ref_POSE_tabel.xlsx'\n",
    "comparison_excel_path = 'attack_pose_data/DATASETS/Techniek_aanval_met_sprong_Ref_POSE_tabel.xlsx'\n",
    "comparison_video_path = 'attack_pose_data/BLURRED_VIDEOS/Techniek_aanval_met_sprong_Ref.mp4'\n",
    "num_phases=4\n",
    "slow_factor=1\n",
    "\n",
    "comp.generate_video_comparison_output(\n",
    "    output_video_path,\n",
    "    reference_excel_path,\n",
    "    comparison_excel_path,\n",
    "    comparison_video_path,\n",
    "    num_phases=num_phases,\n",
    "    slow_factor=slow_factor\n",
    ")"
   ]
  },
  {
   "cell_type": "code",
   "execution_count": 4,
   "metadata": {},
   "outputs": [
    {
     "data": {
      "text/plain": [
       "{'phase_0': {'ra': 1.0,\n",
       "  'la': 1.0000001,\n",
       "  'rl': 1.0,\n",
       "  'll': 1.0,\n",
       "  'torso': 1.0000001},\n",
       " 'phase_1': {'ra': 0.9999999,\n",
       "  'la': 1.0,\n",
       "  'rl': 1.0000001,\n",
       "  'll': 1.0,\n",
       "  'torso': 1.0},\n",
       " 'phase_2': {'ra': 1.0, 'la': 1.0, 'rl': 1.0, 'll': 1.0, 'torso': 1.0},\n",
       " 'phase_3': {'ra': 0.99999994,\n",
       "  'la': 1.0000001,\n",
       "  'rl': 1.0000002,\n",
       "  'll': 1.0,\n",
       "  'torso': 1.0}}"
      ]
     },
     "execution_count": 4,
     "metadata": {},
     "output_type": "execute_result"
    }
   ],
   "source": [
    "comp.get_comparison_scores(reference_excel_path, reference_excel_path, num_phases=num_phases)"
   ]
  }
 ],
 "metadata": {
  "kernelspec": {
   "display_name": "bpe_2",
   "language": "python",
   "name": "python3"
  },
  "language_info": {
   "codemirror_mode": {
    "name": "ipython",
    "version": 3
   },
   "file_extension": ".py",
   "mimetype": "text/x-python",
   "name": "python",
   "nbconvert_exporter": "python",
   "pygments_lexer": "ipython3",
   "version": "3.10.0"
  }
 },
 "nbformat": 4,
 "nbformat_minor": 2
}
